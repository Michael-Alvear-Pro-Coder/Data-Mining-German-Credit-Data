{
  "cells": [
    {
      "cell_type": "code",
      "execution_count": 3,
      "metadata": {
        "colab": {
          "base_uri": "https://localhost:8080/"
        },
        "id": "AQrVm0kAYZql",
        "outputId": "bd1bc02c-d29d-40df-e96e-74880c5197d9"
      },
      "outputs": [
        {
          "output_type": "stream",
          "name": "stdout",
          "text": [
            "Collecting gower\n",
            "  Downloading gower-0.1.2-py3-none-any.whl.metadata (3.7 kB)\n",
            "Requirement already satisfied: numpy in /usr/local/lib/python3.10/dist-packages (from gower) (1.26.4)\n",
            "Requirement already satisfied: scipy in /usr/local/lib/python3.10/dist-packages (from gower) (1.13.1)\n",
            "Downloading gower-0.1.2-py3-none-any.whl (5.2 kB)\n",
            "Installing collected packages: gower\n",
            "Successfully installed gower-0.1.2\n"
          ]
        }
      ],
      "source": [
        "!pip install gower"
      ]
    },
    {
      "cell_type": "code",
      "execution_count": 207,
      "metadata": {
        "colab": {
          "base_uri": "https://localhost:8080/"
        },
        "id": "0ESdIpnqZhLA",
        "outputId": "05e2d6a5-4057-49f4-d404-8cf74e9c1e78"
      },
      "outputs": [
        {
          "output_type": "stream",
          "name": "stdout",
          "text": [
            "      Marital status  Application mode  Application order  Course  \\\n",
            "0                  1                17                  5     171   \n",
            "1                  1                15                  1    9254   \n",
            "2                  1                 1                  5    9070   \n",
            "3                  1                17                  2    9773   \n",
            "4                  2                39                  1    8014   \n",
            "...              ...               ...                ...     ...   \n",
            "4419               1                 1                  6    9773   \n",
            "4420               1                 1                  2    9773   \n",
            "4421               1                 1                  1    9500   \n",
            "4422               1                 1                  1    9147   \n",
            "4423               1                10                  1    9773   \n",
            "\n",
            "      Daytime/evening attendance  Previous qualification  \\\n",
            "0                              1                       1   \n",
            "1                              1                       1   \n",
            "2                              1                       1   \n",
            "3                              1                       1   \n",
            "4                              0                       1   \n",
            "...                          ...                     ...   \n",
            "4419                           1                       1   \n",
            "4420                           1                       1   \n",
            "4421                           1                       1   \n",
            "4422                           1                       1   \n",
            "4423                           1                       1   \n",
            "\n",
            "      Previous qualification (grade)  Nacionality  Mother's qualification  \\\n",
            "0                              122.0            1                      19   \n",
            "1                              160.0            1                       1   \n",
            "2                              122.0            1                      37   \n",
            "3                              122.0            1                      38   \n",
            "4                              100.0            1                      37   \n",
            "...                              ...          ...                     ...   \n",
            "4419                           125.0            1                       1   \n",
            "4420                           120.0          105                       1   \n",
            "4421                           154.0            1                      37   \n",
            "4422                           180.0            1                      37   \n",
            "4423                           152.0           22                      38   \n",
            "\n",
            "      Father's qualification  ...  Curricular units 2nd sem (credited)  \\\n",
            "0                         12  ...                                    0   \n",
            "1                          3  ...                                    0   \n",
            "2                         37  ...                                    0   \n",
            "3                         37  ...                                    0   \n",
            "4                         38  ...                                    0   \n",
            "...                      ...  ...                                  ...   \n",
            "4419                       1  ...                                    0   \n",
            "4420                       1  ...                                    0   \n",
            "4421                      37  ...                                    0   \n",
            "4422                      37  ...                                    0   \n",
            "4423                      37  ...                                    0   \n",
            "\n",
            "      Curricular units 2nd sem (enrolled)  \\\n",
            "0                                       0   \n",
            "1                                       6   \n",
            "2                                       6   \n",
            "3                                       6   \n",
            "4                                       6   \n",
            "...                                   ...   \n",
            "4419                                    6   \n",
            "4420                                    6   \n",
            "4421                                    8   \n",
            "4422                                    5   \n",
            "4423                                    6   \n",
            "\n",
            "      Curricular units 2nd sem (evaluations)  \\\n",
            "0                                          0   \n",
            "1                                          6   \n",
            "2                                          0   \n",
            "3                                         10   \n",
            "4                                          6   \n",
            "...                                      ...   \n",
            "4419                                       8   \n",
            "4420                                       6   \n",
            "4421                                       9   \n",
            "4422                                       6   \n",
            "4423                                       6   \n",
            "\n",
            "      Curricular units 2nd sem (approved)  Curricular units 2nd sem (grade)  \\\n",
            "0                                       0                          0.000000   \n",
            "1                                       6                         13.666667   \n",
            "2                                       0                          0.000000   \n",
            "3                                       5                         12.400000   \n",
            "4                                       6                         13.000000   \n",
            "...                                   ...                               ...   \n",
            "4419                                    5                         12.666667   \n",
            "4420                                    2                         11.000000   \n",
            "4421                                    1                         13.500000   \n",
            "4422                                    5                         12.000000   \n",
            "4423                                    6                         13.000000   \n",
            "\n",
            "      Curricular units 2nd sem (without evaluations)  Unemployment rate  \\\n",
            "0                                                  0               10.8   \n",
            "1                                                  0               13.9   \n",
            "2                                                  0               10.8   \n",
            "3                                                  0                9.4   \n",
            "4                                                  0               13.9   \n",
            "...                                              ...                ...   \n",
            "4419                                               0               15.5   \n",
            "4420                                               0               11.1   \n",
            "4421                                               0               13.9   \n",
            "4422                                               0                9.4   \n",
            "4423                                               0               12.7   \n",
            "\n",
            "      Inflation rate   GDP    Target  \n",
            "0                1.4  1.74   Dropout  \n",
            "1               -0.3  0.79  Graduate  \n",
            "2                1.4  1.74   Dropout  \n",
            "3               -0.8 -3.12  Graduate  \n",
            "4               -0.3  0.79  Graduate  \n",
            "...              ...   ...       ...  \n",
            "4419             2.8 -4.06  Graduate  \n",
            "4420             0.6  2.02   Dropout  \n",
            "4421            -0.3  0.79   Dropout  \n",
            "4422            -0.8 -3.12  Graduate  \n",
            "4423             3.7 -1.70  Graduate  \n",
            "\n",
            "[4424 rows x 37 columns]\n"
          ]
        }
      ],
      "source": [
        "import pandas\n",
        "import numpy\n",
        "import gower\n",
        "from sklearn.model_selection import train_test_split\n",
        "from sklearn.neighbors import KNeighborsClassifier\n",
        "from sklearn.metrics import accuracy_score, precision_recall_fscore_support\n",
        "from sklearn.preprocessing import MinMaxScaler\n",
        "from sklearn.compose import ColumnTransformer\n",
        "\n",
        "\n",
        "my_data_frame = pandas.read_csv('/Academic-Data.csv', header = 0) # Your path may differ\n",
        "print(my_data_frame)"
      ]
    },
    {
      "cell_type": "code",
      "execution_count": 203,
      "metadata": {
        "colab": {
          "base_uri": "https://localhost:8080/"
        },
        "id": "-k22oKuRZ-4R",
        "outputId": "24711472-6488-4697-a50b-307af6ac5556"
      },
      "outputs": [
        {
          "output_type": "stream",
          "name": "stdout",
          "text": [
            "Application order                                  float64\n",
            "Previous qualification (grade)                     float64\n",
            "Admission grade                                    float64\n",
            "Age at enrollment                                  float64\n",
            "Curricular units 1st sem (credited)                float64\n",
            "Curricular units 1st sem (enrolled)                float64\n",
            "Curricular units 1st sem (evaluations)             float64\n",
            "Curricular units 1st sem (approved)                float64\n",
            "Curricular units 1st sem (grade)                   float64\n",
            "Curricular units 1st sem (without evaluations)     float64\n",
            "Curricular units 2nd sem (credited)                float64\n",
            "Curricular units 2nd sem (enrolled)                float64\n",
            "Curricular units 2nd sem (evaluations)             float64\n",
            "Marital status                                    category\n",
            "Daytime/evening attendance                        category\n",
            "Nacionality                                       category\n",
            "Displaced                                         category\n",
            "Educational special needs                         category\n",
            "Debtor                                            category\n",
            "Tuition fees up to date                           category\n",
            "Gender                                            category\n",
            "Scholarship holder                                category\n",
            "International                                     category\n",
            "dtype: object\n"
          ]
        }
      ],
      "source": [
        "# Seperating the labels from the other attributes and paring down the data to 1000 records\n",
        "labels = my_data_frame.iloc[:1000, -1]\n",
        "data = my_data_frame.iloc[:1000, :-1]\n",
        "\n",
        "\n",
        "# Specifying datatypes of the different attributes\n",
        "categorical_attributes = [\"Marital status\", \"Application mode\", \"Course\", \"Daytime/evening attendance\", \"Previous qualification\", \"Nacionality\", \"Mother's qualification\", \"Father's qualification\", \"Mother's occupation\", \"Father's occupation\", \"Displaced\", \"Educational special needs\", \"Debtor\", \"Tuition fees up to date\", \"Gender\", \"Scholarship holder\", \"International\"]\n",
        "numerical_attributes = [\"Application order\", \"Previous qualification (grade)\", \"Admission grade\", \"Age at enrollment\", \"Curricular units 1st sem (credited)\", \"Curricular units 1st sem (enrolled)\", \"Curricular units 1st sem (evaluations)\", \"Curricular units 1st sem (approved)\", \"Curricular units 1st sem (grade)\", \"Curricular units 1st sem (without evaluations)\", \"Curricular units 2nd sem (credited)\", \"Curricular units 2nd sem (enrolled)\", \"Curricular units 2nd sem (evaluations)\", \"Unemployment rate\", \"Inflation rate\", \"GDP\"]\n",
        "\n",
        "\n",
        "# This step applies Min-Max scaling to only the numerical attributes\n",
        "preprocessor = ColumnTransformer(\n",
        "    transformers=[\n",
        "        ('num', MinMaxScaler(), numerical_attributes),  # Apply MinMaxScaler to numerical columns\n",
        "        ('cat', 'passthrough', categorical_attributes)  # Leave categorical columns unchanged\n",
        "    ])\n",
        "\n",
        "\n",
        "processed_data_array = preprocessor.fit_transform(data)\n",
        "processed_dataframe = pandas.DataFrame(processed_data_array, columns=numerical_attributes + categorical_attributes) # The preprocessor returns a numpy array so we need to convert it back into a dataframe so we can keep track of datatype info (categorical vs. numerical)\n",
        "\n",
        "\n",
        "# Adding the type information to the dataframe\n",
        "for column in categorical_attributes:\n",
        "  processed_dataframe[column] = processed_dataframe[column].astype('category')\n",
        "\n",
        "for column in numerical_attributes:\n",
        "  processed_dataframe[column] = processed_dataframe[column].astype('float')\n",
        "\n",
        "\n",
        "# Dropping attributes that lead to misleading distance calculations\n",
        "columns_to_omit = [\"Unemployment rate\", \"Inflation rate\", \"GDP\", \"Application mode\", \"Course\", \"Previous qualification\", \"Mother's qualification\", \"Father's qualification\", \"Mother's occupation\",\"Father's occupation\"]\n",
        "processed_dataframe.drop(columns_to_omit, axis=1, inplace=True)\n",
        "\n",
        "# As you can see the data is now scaled and organized by data type which will come in handy later\n",
        "print(processed_dataframe.dtypes)"
      ]
    },
    {
      "cell_type": "code",
      "execution_count": 204,
      "metadata": {
        "id": "r7BTJStVfuqj"
      },
      "outputs": [],
      "source": [
        "# Train-test split (80% train - 20% test)\n",
        "training_data, testing_data, training_labels, testing_labels = train_test_split(processed_dataframe,\n",
        "                                                    labels,\n",
        "                                                    test_size=0.2,\n",
        "                                                    random_state=42)"
      ]
    },
    {
      "cell_type": "code",
      "execution_count": 205,
      "metadata": {
        "id": "26e4BSjNfxAt"
      },
      "outputs": [],
      "source": [
        "# Need to wrap gower_matrix, this allows it to be used as the distance metric for KNeighborsClassifier\n",
        "def my_gower_metric(X1, X2):\n",
        "\n",
        "    # Need to reshape inputs so they are 2-dimensional\n",
        "    X1 = X1.reshape(1, -1)\n",
        "    X2 = X2.reshape(1, -1)\n",
        "\n",
        "    # Concatenating the records\n",
        "    input = numpy.vstack((X1, X2))\n",
        "\n",
        "    # This boolean mask specifies which columns contain categorical attributes\n",
        "    # The way this is structured depends on the way the data was processed in the previous steps\n",
        "    bool_mask = [True if i > 12 else False for i in range(input.shape[1])]\n",
        "\n",
        "    return gower.gower_matrix(input, cat_features = bool_mask)[0,1]\n",
        "\n",
        "\n",
        "# Applying KNN\n",
        "model = KNeighborsClassifier(n_neighbors=5, metric = my_gower_metric)\n",
        "model.fit(training_data, training_labels)\n",
        "predicted_labels = model.predict(testing_data)"
      ]
    },
    {
      "cell_type": "code",
      "execution_count": 206,
      "metadata": {
        "id": "sD8mc1U6f6cs",
        "colab": {
          "base_uri": "https://localhost:8080/"
        },
        "outputId": "5186821c-29ff-482c-d68a-236a2e6a8051"
      },
      "outputs": [
        {
          "output_type": "stream",
          "name": "stdout",
          "text": [
            "Accuracy: 0.705\n",
            "Precision: 0.6212885154061625\n",
            "Recall: 0.5734925401592069\n",
            "F1 Score: 0.5758971604836267\n"
          ]
        }
      ],
      "source": [
        "# Metrics\n",
        "accuracy = accuracy_score(testing_labels, predicted_labels)\n",
        "precision, recall, f1, _ = precision_recall_fscore_support(testing_labels, predicted_labels, average='macro')\n",
        "\n",
        "print(\"Accuracy:\", accuracy)\n",
        "print(\"Precision:\", precision)\n",
        "print(\"Recall:\", recall)\n",
        "print(\"F1 Score:\", f1)"
      ]
    }
  ],
  "metadata": {
    "colab": {
      "provenance": []
    },
    "kernelspec": {
      "display_name": "Python 3",
      "name": "python3"
    },
    "language_info": {
      "name": "python"
    }
  },
  "nbformat": 4,
  "nbformat_minor": 0
}