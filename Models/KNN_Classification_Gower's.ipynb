{
  "cells": [
    {
      "cell_type": "code",
      "source": [
        "!pip install gower"
      ],
      "metadata": {
        "colab": {
          "base_uri": "https://localhost:8080/"
        },
        "id": "RtllWqeHDDBB",
        "outputId": "691d6fe6-6163-433e-f41c-474f46f31349"
      },
      "execution_count": 29,
      "outputs": [
        {
          "output_type": "stream",
          "name": "stdout",
          "text": [
            "Collecting gower\n",
            "  Downloading gower-0.1.2-py3-none-any.whl.metadata (3.7 kB)\n",
            "Requirement already satisfied: numpy in /usr/local/lib/python3.10/dist-packages (from gower) (1.26.4)\n",
            "Requirement already satisfied: scipy in /usr/local/lib/python3.10/dist-packages (from gower) (1.13.1)\n",
            "Downloading gower-0.1.2-py3-none-any.whl (5.2 kB)\n",
            "Installing collected packages: gower\n",
            "Successfully installed gower-0.1.2\n"
          ]
        }
      ]
    },
    {
      "cell_type": "code",
      "execution_count": 188,
      "metadata": {
        "colab": {
          "base_uri": "https://localhost:8080/"
        },
        "id": "wWZ8PxZJ4rV5",
        "outputId": "7b853d67-9fd3-4998-a778-2e1dc2b1318f"
      },
      "outputs": [
        {
          "output_type": "stream",
          "name": "stdout",
          "text": [
            "    status  duration history purpose  amount bonds employment  rate marital  \\\n",
            "0      A11         6     A34     A43    1169   A65        A75     4     A93   \n",
            "1      A12        48     A32     A43    5951   A61        A73     2     A92   \n",
            "2      A14        12     A34     A46    2096   A61        A74     2     A93   \n",
            "3      A11        42     A32     A42    7882   A61        A74     2     A93   \n",
            "4      A11        24     A33     A40    4870   A61        A73     3     A93   \n",
            "..     ...       ...     ...     ...     ...   ...        ...   ...     ...   \n",
            "995    A14        12     A32     A42    1736   A61        A74     3     A92   \n",
            "996    A11        30     A32     A41    3857   A61        A73     4     A91   \n",
            "997    A14        12     A32     A43     804   A61        A75     4     A93   \n",
            "998    A11        45     A32     A43    1845   A61        A73     4     A93   \n",
            "999    A12        45     A34     A41    4576   A62        A71     3     A93   \n",
            "\n",
            "    debtors  ...  property age  plans housing credits   job maintenance  \\\n",
            "0      A101  ...      A121  67   A143    A152       2  A173           1   \n",
            "1      A101  ...      A121  22   A143    A152       1  A173           1   \n",
            "2      A101  ...      A121  49   A143    A152       1  A172           2   \n",
            "3      A103  ...      A122  45   A143    A153       1  A173           2   \n",
            "4      A101  ...      A124  53   A143    A153       2  A173           2   \n",
            "..      ...  ...       ...  ..    ...     ...     ...   ...         ...   \n",
            "995    A101  ...      A121  31   A143    A152       1  A172           1   \n",
            "996    A101  ...      A122  40   A143    A152       1  A174           1   \n",
            "997    A101  ...      A123  38   A143    A152       1  A173           1   \n",
            "998    A101  ...      A124  23   A143    A153       1  A173           1   \n",
            "999    A101  ...      A123  27   A143    A152       1  A173           1   \n",
            "\n",
            "     telephone foreign Unnamed: 20  \n",
            "0         A192    A201           1  \n",
            "1         A191    A201           2  \n",
            "2         A191    A201           1  \n",
            "3         A191    A201           1  \n",
            "4         A191    A201           2  \n",
            "..         ...     ...         ...  \n",
            "995       A191    A201           1  \n",
            "996       A192    A201           1  \n",
            "997       A191    A201           1  \n",
            "998       A192    A201           2  \n",
            "999       A191    A201           1  \n",
            "\n",
            "[1000 rows x 21 columns]\n"
          ]
        }
      ],
      "source": [
        "import pandas\n",
        "import numpy\n",
        "import gower\n",
        "from sklearn.model_selection import train_test_split\n",
        "from sklearn.neighbors import KNeighborsClassifier\n",
        "from sklearn.metrics import accuracy_score, precision_recall_fscore_support\n",
        "from sklearn.preprocessing import MinMaxScaler\n",
        "from sklearn.compose import ColumnTransformer\n",
        "\n",
        "\n",
        "my_data_frame = pandas.read_csv('/Credit-Data.csv', header = 0) # Your path may differ\n",
        "print(my_data_frame)"
      ]
    },
    {
      "cell_type": "code",
      "source": [
        "labels = my_data_frame.iloc[:, -1]\n",
        "data = my_data_frame.iloc[:, :20]\n",
        "\n",
        "\n",
        "categorical_attributes = ['status', 'history', 'purpose', 'bonds', 'employment', 'marital', 'debtors', 'property', 'plans', 'housing', 'job', 'telephone', 'foreign']\n",
        "numerical_attributes = ['duration', 'amount', 'rate', 'residence', 'age', 'credits', 'maintenance']\n",
        "\n",
        "\n",
        "# This step applies Min-Max scaling to only the numerical attributes\n",
        "preprocessor = ColumnTransformer(\n",
        "    transformers=[\n",
        "        ('num', MinMaxScaler(), numerical_attributes),  # Apply MinMaxScaler to numerical columns\n",
        "        ('cat', 'passthrough', categorical_attributes)  # Leave categorical columns unchanged\n",
        "    ])\n",
        "\n",
        "\n",
        "processed_data_array = preprocessor.fit_transform(data)\n",
        "processed_dataframe = pandas.DataFrame(processed_data_array, columns=numerical_attributes + categorical_attributes)\n",
        "\n",
        "\n",
        "# Here I'm specifying whether a certain column contains categorical or numerical data, this step is required for using Gower's distance\n",
        "for column in categorical_attributes:\n",
        "  processed_dataframe[column] = processed_dataframe[column].astype('category')\n",
        "\n",
        "for column in numerical_attributes:\n",
        "  processed_dataframe[column] = processed_dataframe[column].astype('float')\n",
        "\n",
        "\n",
        "print(processed_dataframe.dtypes)"
      ],
      "metadata": {
        "colab": {
          "base_uri": "https://localhost:8080/"
        },
        "id": "F52FZMbeJzyq",
        "outputId": "4f5ff076-0837-4ee6-dfa8-9234a4570064"
      },
      "execution_count": 189,
      "outputs": [
        {
          "output_type": "stream",
          "name": "stdout",
          "text": [
            "duration        float64\n",
            "amount          float64\n",
            "rate            float64\n",
            "residence       float64\n",
            "age             float64\n",
            "credits         float64\n",
            "maintenance     float64\n",
            "status         category\n",
            "history        category\n",
            "purpose        category\n",
            "bonds          category\n",
            "employment     category\n",
            "marital        category\n",
            "debtors        category\n",
            "property       category\n",
            "plans          category\n",
            "housing        category\n",
            "job            category\n",
            "telephone      category\n",
            "foreign        category\n",
            "dtype: object\n"
          ]
        }
      ]
    },
    {
      "cell_type": "code",
      "source": [
        "training_data, testing_data, training_labels, testing_labels = train_test_split(processed_dataframe,\n",
        "                                                    labels,\n",
        "                                                    test_size=0.2,\n",
        "                                                    random_state=42)\n"
      ],
      "metadata": {
        "id": "DLUZNojoRSU-"
      },
      "execution_count": 190,
      "outputs": []
    },
    {
      "cell_type": "code",
      "execution_count": 191,
      "metadata": {
        "id": "pwQVXjsyDPON"
      },
      "outputs": [],
      "source": [
        "# Applying KNN\n",
        "def my_gower_metric(X1, X2):\n",
        "    X1 = X1.reshape(1, -1)\n",
        "    X2 = X2.reshape(1, -1)\n",
        "    return gower.gower_matrix(X1, X2)\n",
        "\n",
        "\n",
        "\n",
        "model = KNeighborsClassifier(n_neighbors=5, metric = my_gower_metric)\n",
        "model.fit(training_data, training_labels)\n",
        "predicted_labels = model.predict(testing_data)"
      ]
    },
    {
      "cell_type": "code",
      "execution_count": 192,
      "metadata": {
        "colab": {
          "base_uri": "https://localhost:8080/"
        },
        "id": "cSj7QjtWDfxg",
        "outputId": "0e3e69b4-9898-493d-bd13-84b1f900bbab"
      },
      "outputs": [
        {
          "output_type": "stream",
          "name": "stdout",
          "text": [
            "Accuracy: 0.74\n",
            "Precision: 0.6862638359644349\n",
            "Recall: 0.623392234643587\n",
            "F1 Score: 0.6329757199322417\n"
          ]
        }
      ],
      "source": [
        "accuracy = accuracy_score(testing_labels, predicted_labels)\n",
        "precision, recall, f1, _ = precision_recall_fscore_support(testing_labels, predicted_labels, average='macro')\n",
        "\n",
        "print(\"Accuracy:\", accuracy)\n",
        "print(\"Precision:\", precision)\n",
        "print(\"Recall:\", recall)\n",
        "print(\"F1 Score:\", f1)"
      ]
    }
  ],
  "metadata": {
    "colab": {
      "provenance": []
    },
    "kernelspec": {
      "display_name": "Python 3",
      "name": "python3"
    },
    "language_info": {
      "name": "python"
    }
  },
  "nbformat": 4,
  "nbformat_minor": 0
}