{
  "nbformat": 4,
  "nbformat_minor": 0,
  "metadata": {
    "colab": {
      "provenance": []
    },
    "kernelspec": {
      "name": "python3",
      "display_name": "Python 3"
    },
    "language_info": {
      "name": "python"
    }
  },
  "cells": [
    {
      "cell_type": "code",
      "execution_count": 65,
      "metadata": {
        "colab": {
          "base_uri": "https://localhost:8080/"
        },
        "id": "wWZ8PxZJ4rV5",
        "outputId": "1af412c0-fb02-4541-be79-1a35fda84e62"
      },
      "outputs": [
        {
          "output_type": "stream",
          "name": "stdout",
          "text": [
            "     0   1   2   3   4   5   6   7   8   9   ...  15  16  17  18  19  20  21  \\\n",
            "0     1   6   4  12   5   5   3   4   1  67  ...   0   0   1   0   0   1   0   \n",
            "1     2  48   2  60   1   3   2   2   1  22  ...   0   0   1   0   0   1   0   \n",
            "2     4  12   4  21   1   4   3   3   1  49  ...   0   0   1   0   0   1   0   \n",
            "3     1  42   2  79   1   4   3   4   2  45  ...   0   0   0   0   0   0   0   \n",
            "4     1  24   3  49   1   3   3   4   4  53  ...   1   0   1   0   0   0   0   \n",
            "..   ..  ..  ..  ..  ..  ..  ..  ..  ..  ..  ...  ..  ..  ..  ..  ..  ..  ..   \n",
            "995   4  12   2  17   1   4   2   4   1  31  ...   0   0   1   0   0   1   0   \n",
            "996   1  30   2  39   1   3   1   4   2  40  ...   0   1   1   0   0   1   0   \n",
            "997   4  12   2   8   1   5   3   4   3  38  ...   0   0   1   0   0   1   0   \n",
            "998   1  45   2  18   1   3   3   4   4  23  ...   0   0   1   0   0   0   0   \n",
            "999   2  45   4  46   2   1   3   4   3  27  ...   0   1   1   0   0   1   0   \n",
            "\n",
            "     22  23  24  \n",
            "0     0   1   1  \n",
            "1     0   1   2  \n",
            "2     1   0   1  \n",
            "3     0   1   1  \n",
            "4     0   1   2  \n",
            "..   ..  ..  ..  \n",
            "995   1   0   1  \n",
            "996   0   0   1  \n",
            "997   0   1   1  \n",
            "998   0   1   2  \n",
            "999   0   1   1  \n",
            "\n",
            "[1000 rows x 25 columns]\n"
          ]
        }
      ],
      "source": [
        "import pandas\n",
        "import numpy\n",
        "from sklearn.model_selection import train_test_split\n",
        "from sklearn.neighbors import KNeighborsClassifier\n",
        "from sklearn.metrics import accuracy_score\n",
        "from sklearn.preprocessing import MinMaxScaler\n",
        "\n",
        "\n",
        "my_data_frame = pandas.read_csv('/Numeric-Credit-Data.csv', header = None) # Your path may differ\n",
        "print(my_data_frame)"
      ]
    },
    {
      "cell_type": "code",
      "source": [
        "labels = my_data_frame.iloc[:, 24].to_numpy() # Creating a numpy array of the class labels column (in other words, the last column)\n",
        "data = my_data_frame.iloc[:, :24].to_numpy() # Creating a numpy array of all the other columns (this will be the training and test data)\n",
        "\n",
        "\n",
        "# Train test split (80% train - 20% test)\n",
        "X_train, X_test, y_train, y_test = train_test_split(data,\n",
        "                                                    labels,\n",
        "                                                    test_size=0.2,\n",
        "                                                    random_state=42)"
      ],
      "metadata": {
        "id": "Jzc03t5d9Mcq"
      },
      "execution_count": 66,
      "outputs": []
    },
    {
      "cell_type": "code",
      "source": [
        "# Initializing the MinMaxScaler\n",
        "scaler = MinMaxScaler()\n",
        "\n",
        "# Fit the scaler and transform the data\n",
        "normalized_X_train = scaler.fit_transform(X_train)\n",
        "normalized_X_test = scaler.transform(X_test) # You don't need to fit again here because the scaler is already fit with the correct values in the previous line\n",
        "\n",
        "# Initializing the KNN model and creating predictions\n",
        "model = KNeighborsClassifier(n_neighbors=3)\n",
        "model.fit(normalized_X_train, y_train)\n",
        "y_pred = model.predict(normalized_X_test)"
      ],
      "metadata": {
        "id": "pwQVXjsyDPON"
      },
      "execution_count": 67,
      "outputs": []
    },
    {
      "cell_type": "code",
      "source": [
        "accuracy_score(y_test, y_pred)"
      ],
      "metadata": {
        "colab": {
          "base_uri": "https://localhost:8080/"
        },
        "id": "cSj7QjtWDfxg",
        "outputId": "a788b0d6-0638-48f0-fba6-7ca85c9c1654"
      },
      "execution_count": 69,
      "outputs": [
        {
          "output_type": "execute_result",
          "data": {
            "text/plain": [
              "0.755"
            ]
          },
          "metadata": {},
          "execution_count": 69
        }
      ]
    }
  ]
}