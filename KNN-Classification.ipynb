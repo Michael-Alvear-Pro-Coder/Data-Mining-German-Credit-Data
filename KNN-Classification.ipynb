{
  "cells": [
    {
      "cell_type": "code",
      "execution_count": 119,
      "metadata": {
        "colab": {
          "base_uri": "https://localhost:8080/"
        },
        "id": "wWZ8PxZJ4rV5",
        "outputId": "d8a7d8c6-1067-41fa-b2ad-e333a5d4afd5"
      },
      "outputs": [
        {
          "name": "stdout",
          "output_type": "stream",
          "text": [
            "    status  duration history purpose  amount bonds employment  rate marital  \\\n",
            "0      A11         6     A34     A43    1169   A65        A75     4     A93   \n",
            "1      A12        48     A32     A43    5951   A61        A73     2     A92   \n",
            "2      A14        12     A34     A46    2096   A61        A74     2     A93   \n",
            "3      A11        42     A32     A42    7882   A61        A74     2     A93   \n",
            "4      A11        24     A33     A40    4870   A61        A73     3     A93   \n",
            "..     ...       ...     ...     ...     ...   ...        ...   ...     ...   \n",
            "995    A14        12     A32     A42    1736   A61        A74     3     A92   \n",
            "996    A11        30     A32     A41    3857   A61        A73     4     A91   \n",
            "997    A14        12     A32     A43     804   A61        A75     4     A93   \n",
            "998    A11        45     A32     A43    1845   A61        A73     4     A93   \n",
            "999    A12        45     A34     A41    4576   A62        A71     3     A93   \n",
            "\n",
            "    debtors  ...  property age  plans housing credits   job maintenance  \\\n",
            "0      A101  ...      A121  67   A143    A152       2  A173           1   \n",
            "1      A101  ...      A121  22   A143    A152       1  A173           1   \n",
            "2      A101  ...      A121  49   A143    A152       1  A172           2   \n",
            "3      A103  ...      A122  45   A143    A153       1  A173           2   \n",
            "4      A101  ...      A124  53   A143    A153       2  A173           2   \n",
            "..      ...  ...       ...  ..    ...     ...     ...   ...         ...   \n",
            "995    A101  ...      A121  31   A143    A152       1  A172           1   \n",
            "996    A101  ...      A122  40   A143    A152       1  A174           1   \n",
            "997    A101  ...      A123  38   A143    A152       1  A173           1   \n",
            "998    A101  ...      A124  23   A143    A153       1  A173           1   \n",
            "999    A101  ...      A123  27   A143    A152       1  A173           1   \n",
            "\n",
            "     telephone foreign Unnamed: 20  \n",
            "0         A192    A201           1  \n",
            "1         A191    A201           2  \n",
            "2         A191    A201           1  \n",
            "3         A191    A201           1  \n",
            "4         A191    A201           2  \n",
            "..         ...     ...         ...  \n",
            "995       A191    A201           1  \n",
            "996       A192    A201           1  \n",
            "997       A191    A201           1  \n",
            "998       A192    A201           2  \n",
            "999       A191    A201           1  \n",
            "\n",
            "[1000 rows x 21 columns]\n"
          ]
        }
      ],
      "source": [
        "import pandas\n",
        "import numpy\n",
        "from sklearn.model_selection import train_test_split\n",
        "from sklearn.neighbors import KNeighborsClassifier\n",
        "from sklearn.metrics import accuracy_score\n",
        "from sklearn.preprocessing import MinMaxScaler\n",
        "\n",
        "\n",
        "my_data_frame = pandas.read_csv('/Credit-Data.csv', header = 0) # Your path may differ\n",
        "print(my_data_frame)"
      ]
    },
    {
      "cell_type": "code",
      "execution_count": 120,
      "metadata": {
        "colab": {
          "base_uri": "https://localhost:8080/"
        },
        "id": "RKWfhcmA6JeN",
        "outputId": "b68008ac-cf6e-40eb-e9ab-479852e5770a"
      },
      "outputs": [
        {
          "name": "stdout",
          "output_type": "stream",
          "text": [
            "     duration  amount  rate  residence  age  credits  maintenance  Unnamed: 20\n",
            "0           6    1169     4          4   67        2            1            1\n",
            "1          48    5951     2          2   22        1            1            2\n",
            "2          12    2096     2          3   49        1            2            1\n",
            "3          42    7882     2          4   45        1            2            1\n",
            "4          24    4870     3          4   53        2            2            2\n",
            "..        ...     ...   ...        ...  ...      ...          ...          ...\n",
            "995        12    1736     3          4   31        1            1            1\n",
            "996        30    3857     4          4   40        1            1            1\n",
            "997        12     804     4          4   38        1            1            1\n",
            "998        45    1845     4          4   23        1            1            2\n",
            "999        45    4576     3          4   27        1            1            1\n",
            "\n",
            "[1000 rows x 8 columns]\n"
          ]
        }
      ],
      "source": [
        "# Here I'm dropping the columns that correspond to non-numerical attributes\n",
        "columns_to_drop = [\"status\", \"history\", \"purpose\", \"bonds\", \"employment\", \"marital\", \"debtors\", \"property\", \"plans\", \"housing\", \"job\", \"telephone\", \"foreign\"]\n",
        "\n",
        "my_data_frame.drop(columns = columns_to_drop, inplace = True)\n",
        "print(my_data_frame) # I'm printing the new data frame minus the non-numerical columns so we can see what the new data looks like\n"
      ]
    },
    {
      "cell_type": "code",
      "execution_count": 121,
      "metadata": {
        "id": "Jzc03t5d9Mcq"
      },
      "outputs": [],
      "source": [
        "labels = my_data_frame.iloc[:, 7].to_numpy() # Creating a numpy array of the class labels column (in other words, the last column)\n",
        "data = my_data_frame.iloc[:, :7].to_numpy() # Creating a numpy array of all the other columns (this will be the training and test data)\n",
        "\n",
        "\n",
        "# Train test split (90% train - 10% test)\n",
        "X_train, X_test, y_train, y_test = train_test_split(data,\n",
        "                                                    labels,\n",
        "                                                    test_size=0.1,\n",
        "                                                    random_state=42)"
      ]
    },
    {
      "cell_type": "code",
      "execution_count": 122,
      "metadata": {
        "id": "pwQVXjsyDPON"
      },
      "outputs": [],
      "source": [
        "# Initializing the MinMaxScaler\n",
        "scaler = MinMaxScaler()\n",
        "\n",
        "# Fit the scaler and transform the data\n",
        "normalized_X_train = scaler.fit_transform(X_train)\n",
        "normalized_X_test = scaler.transform(X_test) # You don't need to fit again here because the scaler is already fit with the correct values in the previous line\n",
        "\n",
        "# Initializing the KNN model and creating predictions\n",
        "model = KNeighborsClassifier(n_neighbors=10)\n",
        "model.fit(normalized_X_train, y_train)\n",
        "y_pred = model.predict(normalized_X_test)"
      ]
    },
    {
      "cell_type": "code",
      "execution_count": 123,
      "metadata": {
        "colab": {
          "base_uri": "https://localhost:8080/"
        },
        "id": "cSj7QjtWDfxg",
        "outputId": "3153fd9b-068e-4bf9-cea3-343aa82ba0ab"
      },
      "outputs": [
        {
          "data": {
            "text/plain": [
              "0.7"
            ]
          },
          "execution_count": 123,
          "metadata": {},
          "output_type": "execute_result"
        }
      ],
      "source": [
        "accuracy_score(y_test, y_pred)"
      ]
    }
  ],
  "metadata": {
    "colab": {
      "provenance": []
    },
    "kernelspec": {
      "display_name": "Python 3",
      "name": "python3"
    },
    "language_info": {
      "name": "python"
    }
  },
  "nbformat": 4,
  "nbformat_minor": 0
}
